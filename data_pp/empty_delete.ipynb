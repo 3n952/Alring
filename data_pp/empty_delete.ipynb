{
 "cells": [
  {
   "cell_type": "code",
   "execution_count": 1,
   "id": "c350e964",
   "metadata": {},
   "outputs": [],
   "source": [
    "!cd ./train/labels"
   ]
  },
  {
   "cell_type": "code",
   "execution_count": 2,
   "id": "cc405569",
   "metadata": {},
   "outputs": [],
   "source": [
    "!find . -name '.DS_Store' -type f -delete"
   ]
  },
  {
   "cell_type": "code",
   "execution_count": 3,
   "id": "a7d3eecf",
   "metadata": {},
   "outputs": [],
   "source": [
    "#빈 이미지 파일 및 txt 삭제\n",
    "\n",
    "import os\n",
    "import fnmatch\n",
    "\n",
    "# 이미지 파일과 txt 파일이 저장된 디렉토리 경로 설정\n",
    "dir_path = \"./train\"\n",
    "img_path = os.path.join(dir_path, 'images')\n",
    "txt_path = os.path.join(dir_path, 'labels')\n",
    "\n",
    "# 디렉토리 내 모든 파일 리스트 가져오기\n",
    "img_list = os.listdir(img_path)\n",
    "txt_list = os.listdir(txt_path)\n",
    "\n",
    "# 이미지 디렉토리 내 모든 파일에 대해 반복\n",
    "for txt_name in txt_list:\n",
    "    f = open(os.path.join(txt_path, txt_name), 'r')\n",
    "    line = f.readlines()\n",
    "    if line == []:\n",
    "        fname = txt_name[:-3]+'jpg'\n",
    "        fname1 = txt_name[:-3]+'png'\n",
    "        try:\n",
    "            os.remove(os.path.join(img_path, fname))\n",
    "        except FileNotFoundError:\n",
    "            os.remove(os.path.join(img_path, fname1))\n",
    "            \n",
    "        os.remove(os.path.join(txt_path, txt_name))\n",
    "        f.close()\n",
    "    \n",
    "            "
   ]
  }
 ],
 "metadata": {
  "kernelspec": {
   "display_name": "santf2",
   "language": "python",
   "name": "santf"
  },
  "language_info": {
   "codemirror_mode": {
    "name": "ipython",
    "version": 3
   },
   "file_extension": ".py",
   "mimetype": "text/x-python",
   "name": "python",
   "nbconvert_exporter": "python",
   "pygments_lexer": "ipython3",
   "version": "3.10.9"
  }
 },
 "nbformat": 4,
 "nbformat_minor": 5
}
