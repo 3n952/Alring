{
 "cells": [
  {
   "attachments": {},
   "cell_type": "markdown",
   "id": "3d25e778",
   "metadata": {},
   "source": [
    "image data directory change\n",
    "\n",
    "images 디렉토리에 전체 이미지 파일이 있도록 함.\n",
    "(추가 및 수정해야할 부분: images디렉토리안에 있는 폴더 모두를 순회하게 하기 + 순회했으면 원래 폴더와 .xml파일은 삭제하기)"
   ]
  },
  {
   "cell_type": "code",
   "execution_count": 1,
   "id": "2ffbdc01",
   "metadata": {},
   "outputs": [],
   "source": [
    "from distutils.dir_util import copy_tree\n",
    "import os\n",
    "import shutil\n",
    "from glob import glob"
   ]
  },
  {
   "cell_type": "code",
   "execution_count": 2,
   "id": "177c15aa",
   "metadata": {},
   "outputs": [],
   "source": [
    "!cd ./train/images/Bbox_10_new"
   ]
  },
  {
   "cell_type": "code",
   "execution_count": 3,
   "id": "9d2922ab",
   "metadata": {},
   "outputs": [],
   "source": [
    "!find . -name '.DS_Store' -type f -delete"
   ]
  },
  {
   "cell_type": "code",
   "execution_count": 4,
   "id": "37aa5e6b",
   "metadata": {},
   "outputs": [],
   "source": [
    "#train/images 디렉토리 경로\n",
    "os.chdir(\"/to/your/train/images\")\n",
    "target_path = os.getcwd()"
   ]
  },
  {
   "cell_type": "code",
   "execution_count": null,
   "id": "db74d7ad",
   "metadata": {},
   "outputs": [],
   "source": [
    "#Bbox_10_new와 같은 폴더 처리하기\n",
    "os.chdir(\"to/your/train/images/Bbox_10_new\")\n",
    "rootdir = os.getcwd()\n",
    "print(rootdir)"
   ]
  },
  {
   "cell_type": "code",
   "execution_count": 6,
   "id": "2cfa92e8",
   "metadata": {},
   "outputs": [],
   "source": [
    "#example\n",
    "#rootdir = \"./train/images/Bbox_26_new\"\n",
    "#target_path = \"./train/images\"\n",
    "\n",
    "\n",
    "dirlist = os.listdir()\n",
    "\n",
    "for i in dirlist:\n",
    "    subdir = os.path.join(rootdir, i)\n",
    "    for f in os.listdir(subdir):\n",
    "        source_obj = os.path.join(subdir, f)\n",
    "        shutil.copy2(source_obj, dst=target_path)\n"
   ]
  },
  {
   "cell_type": "code",
   "execution_count": null,
   "id": "08918b5a",
   "metadata": {},
   "outputs": [],
   "source": [
    "'''\n",
    "#rootdir = \"/Users/san/workspace/project/ai2/alring_data/train/images/Bbox_26_new\"\n",
    "#target_path = \"/Users/san/workspace/project/ai2/alring_data/train/images\"\n",
    "#원래 했던 것.\n",
    "\n",
    "dirlist = os.listdir()\n",
    "\n",
    "for i in range(len(dirlist)):\n",
    "    #.DS_store예외처리\n",
    "    try:\n",
    "        subdir = os.path.join(rootdir, dirlist[i])\n",
    "    except NotADirectoryError:\n",
    "        pass\n",
    "    try:\n",
    "        files = [f for f in os.listdir(subdir)]\n",
    "    except NotADirectoryError:\n",
    "        pass\n",
    "    for f in files:\n",
    "        source_obj = subdir + os.sep + f\n",
    "        shutil.copy2(source_obj, dst=target_path)\n",
    "'''"
   ]
  },
  {
   "cell_type": "code",
   "execution_count": null,
   "id": "38494425",
   "metadata": {},
   "outputs": [],
   "source": [
    "#파일 용량 별로 안클 때 한번에 복사\n",
    "'''\n",
    "dirs = glob(os.path.join(target_path,'*/*/*.jpg'))\n",
    "for sub_dir in dirs:\n",
    "    try:\n",
    "        files = [f for f in os.listdir(sub_dir)]\n",
    "    except NotADirectoryError:\n",
    "        continue\n",
    "    for f in files:\n",
    "        source_obj = sub_dir + os.sep + f\n",
    "        shutil.copy2(source_obj, dst=target_path)\n",
    "        '''"
   ]
  }
 ],
 "metadata": {
  "kernelspec": {
   "display_name": "santf2",
   "language": "python",
   "name": "santf"
  },
  "language_info": {
   "codemirror_mode": {
    "name": "ipython",
    "version": 3
   },
   "file_extension": ".py",
   "mimetype": "text/x-python",
   "name": "python",
   "nbconvert_exporter": "python",
   "pygments_lexer": "ipython3",
   "version": "3.10.9"
  }
 },
 "nbformat": 4,
 "nbformat_minor": 5
}
