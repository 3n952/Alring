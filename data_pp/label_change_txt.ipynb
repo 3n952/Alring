{
 "cells": [
  {
   "cell_type": "markdown",
   "id": "b3792c54",
   "metadata": {},
   "source": [
    "labels 디렉토리의 txt파일에서 라벨링된 값들을 바꾼다. ex) [1 0.1325 0.1325 0.6346 0.747] -> [2 0.1325 0.1325 0.6346 0.747]\n",
    "\n",
    "주의할 점은 1에서 2로 바꿀 때 1로 시작하지 않는 줄은 모두 삭제한다는 점.\n"
   ]
  },
  {
   "cell_type": "code",
   "execution_count": 8,
   "id": "2f90a349",
   "metadata": {},
   "outputs": [],
   "source": [
    "import os\n",
    "\n",
    "if __name__ == \"__main__\":\n",
    "    #label값을 바꿀 rootdir만 바꿀 것\n",
    "    root_dir = \"/to/your/labels/directory\"\n",
    "    for (root, dirs, files) in os.walk(root_dir):\n",
    "        #print(\"root : \" + root)\n",
    "        if len(dirs) > 0:\n",
    "            for dir_name in dirs:\n",
    "                pass\n",
    "                #print(\"dir: \" + dir_name)\n",
    "\n",
    "        if len(files) > 0:\n",
    "            for file_name in files:\n",
    "                full_name = root + \"/\" + file_name\n",
    "                 \n",
    "                #print(\"dir : \" + root)\n",
    "                if \"txt\" in file_name:\n",
    "                    with open(full_name, \"r+\") as f:\n",
    "                        lines = f.readlines()\n",
    "                        new_lines = []\n",
    "                        for i in range(len(lines)):\n",
    "                            # 2로 되어있는 것을 1로 바꿈\n",
    "                            if len(lines[i]) > 0 and lines[i][0] == \"2\":\n",
    "                                this_line = \"1\"+lines[i][1:]\n",
    "                                new_lines.append(this_line)\n",
    "                        f.seek(0)\n",
    "                        f.truncate()        \n",
    "                        f.write(\"\".join(new_lines))\n",
    "                        \n",
    "                   "
   ]
  },
  {
   "cell_type": "code",
   "execution_count": null,
   "id": "ee5a4e9b",
   "metadata": {},
   "outputs": [],
   "source": []
  }
 ],
 "metadata": {
  "kernelspec": {
   "display_name": "santf2",
   "language": "python",
   "name": "santf"
  },
  "language_info": {
   "codemirror_mode": {
    "name": "ipython",
    "version": 3
   },
   "file_extension": ".py",
   "mimetype": "text/x-python",
   "name": "python",
   "nbconvert_exporter": "python",
   "pygments_lexer": "ipython3",
   "version": "3.10.9"
  }
 },
 "nbformat": 4,
 "nbformat_minor": 5
}
